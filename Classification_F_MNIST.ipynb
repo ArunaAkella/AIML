{
  "nbformat": 4,
  "nbformat_minor": 0,
  "metadata": {
    "colab": {
      "name": "Classification_F-MNIST.ipynb",
      "version": "0.3.2",
      "provenance": [],
      "include_colab_link": true
    },
    "kernelspec": {
      "display_name": "Python 3",
      "language": "python",
      "name": "python3"
    }
  },
  "cells": [
    {
      "cell_type": "markdown",
      "metadata": {
        "id": "view-in-github",
        "colab_type": "text"
      },
      "source": [
        "[View in Colaboratory](https://colab.research.google.com/github/ArunaAkella/AIML/blob/master/Classification_F_MNIST.ipynb)"
      ]
    },
    {
      "metadata": {
        "id": "rlOgHI_DAj_c",
        "colab_type": "text"
      },
      "cell_type": "markdown",
      "source": [
        "### A MNIST-like fashion product database\n",
        "\n",
        "In this, we classify the images into respective classes given in the dataset. We use a Neural Net and a Deep Neural Net in Keras to solve this and check the accuracy scores."
      ]
    },
    {
      "metadata": {
        "id": "lcUn3Fa9Aj_d",
        "colab_type": "text"
      },
      "cell_type": "markdown",
      "source": [
        "### Load tensorflow"
      ]
    },
    {
      "metadata": {
        "id": "tUoLRgjAAj_f",
        "colab_type": "code",
        "colab": {}
      },
      "cell_type": "code",
      "source": [
        "import tensorflow as tf\n",
        "tf.set_random_seed(42)"
      ],
      "execution_count": 0,
      "outputs": []
    },
    {
      "metadata": {
        "id": "O-xZgEddAj_j",
        "colab_type": "code",
        "colab": {
          "base_uri": "https://localhost:8080/",
          "height": 34
        },
        "outputId": "a4aa631d-6525-4444-974e-e2ac79937c05"
      },
      "cell_type": "code",
      "source": [
        "tf.__version__"
      ],
      "execution_count": 4,
      "outputs": [
        {
          "output_type": "execute_result",
          "data": {
            "text/plain": [
              "'1.11.0'"
            ]
          },
          "metadata": {
            "tags": []
          },
          "execution_count": 4
        }
      ]
    },
    {
      "metadata": {
        "id": "fWrYfonXAj_q",
        "colab_type": "text"
      },
      "cell_type": "markdown",
      "source": [
        "### Collect Data"
      ]
    },
    {
      "metadata": {
        "id": "KN-fJPcJAj_t",
        "colab_type": "code",
        "colab": {
          "base_uri": "https://localhost:8080/",
          "height": 34
        },
        "outputId": "6a535fc1-d8f0-486b-c12b-a74ebd1bbeeb"
      },
      "cell_type": "code",
      "source": [
        "import keras"
      ],
      "execution_count": 5,
      "outputs": [
        {
          "output_type": "stream",
          "text": [
            "Using TensorFlow backend.\n"
          ],
          "name": "stderr"
        }
      ]
    },
    {
      "metadata": {
        "id": "iLF8QdgKAj_x",
        "colab_type": "code",
        "colab": {}
      },
      "cell_type": "code",
      "source": [
        "(trainX, trainY), (testX, testY) = keras.datasets.fashion_mnist.load_data()"
      ],
      "execution_count": 0,
      "outputs": []
    },
    {
      "metadata": {
        "id": "jOZhfjMZAj_1",
        "colab_type": "code",
        "colab": {
          "base_uri": "https://localhost:8080/",
          "height": 34
        },
        "outputId": "05069da0-3911-454b-b4cd-10267bc9e70d"
      },
      "cell_type": "code",
      "source": [
        "print(testY[0:5])"
      ],
      "execution_count": 7,
      "outputs": [
        {
          "output_type": "stream",
          "text": [
            "[9 2 1 1 6]\n"
          ],
          "name": "stdout"
        }
      ]
    },
    {
      "metadata": {
        "id": "olaRhc2sEjrF",
        "colab_type": "code",
        "colab": {
          "base_uri": "https://localhost:8080/",
          "height": 34
        },
        "outputId": "7272d5c0-b279-4e05-e64b-3d864c7092d5"
      },
      "cell_type": "code",
      "source": [
        "trainX.shape"
      ],
      "execution_count": 20,
      "outputs": [
        {
          "output_type": "execute_result",
          "data": {
            "text/plain": [
              "(60000, 28, 28)"
            ]
          },
          "metadata": {
            "tags": []
          },
          "execution_count": 20
        }
      ]
    },
    {
      "metadata": {
        "id": "5MbB3DMDAj_7",
        "colab_type": "text"
      },
      "cell_type": "markdown",
      "source": [
        "### Convert both training and testing labels into one-hot vectors.\n",
        "\n",
        "**Hint:** check **tf.keras.utils.to_categorical()**"
      ]
    },
    {
      "metadata": {
        "id": "S_jrbGulAj_9",
        "colab_type": "code",
        "colab": {}
      },
      "cell_type": "code",
      "source": [
        "trainY = tf.keras.utils.to_categorical(trainY, num_classes=10)\n",
        "testY = tf.keras.utils.to_categorical(testY, num_classes=10)"
      ],
      "execution_count": 0,
      "outputs": []
    },
    {
      "metadata": {
        "id": "ZYju9YHAB6vV",
        "colab_type": "code",
        "colab": {
          "base_uri": "https://localhost:8080/",
          "height": 119
        },
        "outputId": "6956ac87-2e8d-4dac-f5a4-f8e6a21abcd7"
      },
      "cell_type": "code",
      "source": [
        "print(trainY.shape)\n",
        "print('First 5 examples now are: ', trainY[0:5])"
      ],
      "execution_count": 9,
      "outputs": [
        {
          "output_type": "stream",
          "text": [
            "(60000, 10)\n",
            "First 5 examples now are:  [[0. 0. 0. 0. 0. 0. 0. 0. 0. 1.]\n",
            " [1. 0. 0. 0. 0. 0. 0. 0. 0. 0.]\n",
            " [1. 0. 0. 0. 0. 0. 0. 0. 0. 0.]\n",
            " [0. 0. 0. 1. 0. 0. 0. 0. 0. 0.]\n",
            " [1. 0. 0. 0. 0. 0. 0. 0. 0. 0.]]\n"
          ],
          "name": "stdout"
        }
      ]
    },
    {
      "metadata": {
        "id": "elBVdT6OAj__",
        "colab_type": "text"
      },
      "cell_type": "markdown",
      "source": [
        "#### Expected Output should look like this"
      ]
    },
    {
      "metadata": {
        "id": "zfZRW8m7AkAB",
        "colab_type": "code",
        "colab": {},
        "outputId": "33c30f0e-b926-4a4c-ee00-ac49865f36a1"
      },
      "cell_type": "code",
      "source": [
        "print(trainY.shape)\n",
        "print('First 5 examples now are: ', trainY[0:5])"
      ],
      "execution_count": 0,
      "outputs": [
        {
          "output_type": "stream",
          "text": [
            "(60000, 10)\n",
            "('First 5 examples now are: ', array([[0., 0., 0., 0., 0., 0., 0., 0., 0., 1.],\n",
            "       [1., 0., 0., 0., 0., 0., 0., 0., 0., 0.],\n",
            "       [1., 0., 0., 0., 0., 0., 0., 0., 0., 0.],\n",
            "       [0., 0., 0., 1., 0., 0., 0., 0., 0., 0.],\n",
            "       [1., 0., 0., 0., 0., 0., 0., 0., 0., 0.]]))\n"
          ],
          "name": "stdout"
        }
      ]
    },
    {
      "metadata": {
        "id": "oGnKwigwAkAE",
        "colab_type": "text"
      },
      "cell_type": "markdown",
      "source": [
        "### Visualize the data\n",
        "\n",
        "Plot first 10 images in the triaining set and their labels."
      ]
    },
    {
      "metadata": {
        "id": "0jbomCRDAkAF",
        "colab_type": "code",
        "colab": {
          "base_uri": "https://localhost:8080/",
          "height": 3140
        },
        "outputId": "8d6e69c8-10b5-41dc-dd7a-b271b8e00e96"
      },
      "cell_type": "code",
      "source": [
        "import matplotlib.pyplot as plt\n",
        "for i in range(0,9):\n",
        "  plt.imshow(trainX[i])\n",
        "  print(trainY[i].argmax())\n",
        "  plt.show()\n",
        "\n",
        "#### Expected Output"
      ],
      "execution_count": 44,
      "outputs": [
        {
          "output_type": "stream",
          "text": [
            "9\n"
          ],
          "name": "stdout"
        },
        {
          "output_type": "display_data",
          "data": {
            "image/png": "[encoded data removed]",
            "text/plain": [
              "<matplotlib.figure.Figure at 0x7f17b0a4d898>"
            ]
          },
          "metadata": {
            "tags": []
          }
        },
        {
          "output_type": "stream",
          "text": [
            "0\n"
          ],
          "name": "stdout"
        },
        {
          "output_type": "display_data",
          "data": {
            "image/png": "[encoded data removed]",
            "text/plain": [
              "<matplotlib.figure.Figure at 0x7f17b0a4de10>"
            ]
          },
          "metadata": {
            "tags": []
          }
        },
        {
          "output_type": "stream",
          "text": [
            "0\n"
          ],
          "name": "stdout"
        },
        {
          "output_type": "display_data",
          "data": {
            "image/png": "[encoded data removed]",
            "text/plain": [
              "<matplotlib.figure.Figure at 0x7f17ae95b550>"
            ]
          },
          "metadata": {
            "tags": []
          }
        },
        {
          "output_type": "stream",
          "text": [
            "3\n"
          ],
          "name": "stdout"
        },
        {
          "output_type": "display_data",
          "data": {
            "image/png": "[encoded data removed]",
            "text/plain": [
              "<matplotlib.figure.Figure at 0x7f17ae8c9198>"
            ]
          },
          "metadata": {
            "tags": []
          }
        },
        {
          "output_type": "stream",
          "text": [
            "0\n"
          ],
          "name": "stdout"
        },
        {
          "output_type": "display_data",
          "data": {
            "image/png": "[encoded data removed]",
            "text/plain": [
              "<matplotlib.figure.Figure at 0x7f17ae8af9e8>"
            ]
          },
          "metadata": {
            "tags": []
          }
        },
        {
          "output_type": "stream",
          "text": [
            "2\n"
          ],
          "name": "stdout"
        },
        {
          "output_type": "display_data",
          "data": {
            "image/png": "[encoded data removed]",
            "text/plain": [
              "<matplotlib.figure.Figure at 0x7f17ae955208>"
            ]
          },
          "metadata": {
            "tags": []
          }
        },
        {
          "output_type": "stream",
          "text": [
            "7\n"
          ],
          "name": "stdout"
        },
        {
          "output_type": "display_data",
          "data": {
            "image/png": "[encoded data removed]",
            "text/plain": [
              "<matplotlib.figure.Figure at 0x7f17ae7d77b8>"
            ]
          },
          "metadata": {
            "tags": []
          }
        },
        {
          "output_type": "stream",
          "text": [
            "2\n"
          ],
          "name": "stdout"
        },
        {
          "output_type": "display_data",
          "data": {
            "image/png": "[encoded data removed]",
            "text/plain": [
              "<matplotlib.figure.Figure at 0x7f17ae798ba8>"
            ]
          },
          "metadata": {
            "tags": []
          }
        },
        {
          "output_type": "stream",
          "text": [
            "5\n"
          ],
          "name": "stdout"
        },
        {
          "output_type": "display_data",
          "data": {
            "image/png": "[encoded data removed]",
            "text/plain": [
              "<matplotlib.figure.Figure at 0x7f17ae70e828>"
            ]
          },
          "metadata": {
            "tags": []
          }
        }
      ]
    },
    {
      "metadata": {
        "id": "oWZt5DpsAkAJ",
        "colab_type": "text"
      },
      "cell_type": "markdown",
      "source": [
        "### Build a neural Network with a cross entropy loss function and sgd optimizer in Keras. The output layer with 10 neurons as we have 10 classes."
      ]
    },
    {
      "metadata": {
        "id": "qVc8iUUVAkAK",
        "colab_type": "code",
        "colab": {}
      },
      "cell_type": "code",
      "source": [
        "#Initialize Sequential model\n",
        "model = tf.keras.models.Sequential()\n",
        "\n",
        "#Reshape data from 2D to 1D -> 28x28 to 784\n",
        "model.add(tf.keras.layers.Reshape((784,),input_shape=(28,28,)))\n",
        "\n",
        "\n",
        "#Add Dense Layer which provides 10 Outputs after applying softmax\n",
        "model.add(tf.keras.layers.Dense(10, activation='softmax'))\n",
        "\n",
        "#Comile the model\n",
        "model.compile(optimizer='sgd', loss='categorical_crossentropy', metrics=['accuracy'])"
      ],
      "execution_count": 0,
      "outputs": []
    },
    {
      "metadata": {
        "id": "bwq6sNncAkAM",
        "colab_type": "text"
      },
      "cell_type": "markdown",
      "source": [
        "### Execute the model using model.fit()"
      ]
    },
    {
      "metadata": {
        "id": "4_2YzQMOAkAN",
        "colab_type": "code",
        "colab": {
          "base_uri": "https://localhost:8080/",
          "height": 1751
        },
        "outputId": "1932f6c9-977b-46b0-cfdb-c8f039a2c824"
      },
      "cell_type": "code",
      "source": [
        "model.fit(trainX, trainY, \n",
        "          validation_data=(testX, testY), \n",
        "          epochs=50,\n",
        "          batch_size=trainX.shape[0])"
      ],
      "execution_count": 14,
      "outputs": [
        {
          "output_type": "stream",
          "text": [
            "Train on 60000 samples, validate on 10000 samples\n",
            "Epoch 1/50\n",
            "60000/60000 [==============================] - 1s 20us/step - loss: 3.0188 - acc: 0.1155 - val_loss: 11.8620 - val_acc: 0.1224\n",
            "Epoch 2/50\n",
            "60000/60000 [==============================] - 1s 17us/step - loss: 2.7356 - acc: 0.1475 - val_loss: 10.0005 - val_acc: 0.1473\n",
            "Epoch 3/50\n",
            "60000/60000 [==============================] - 1s 18us/step - loss: 2.4986 - acc: 0.1840 - val_loss: 8.5144 - val_acc: 0.1719\n",
            "Epoch 4/50\n",
            "60000/60000 [==============================] - 1s 17us/step - loss: 2.3002 - acc: 0.2270 - val_loss: 7.2526 - val_acc: 0.1936\n",
            "Epoch 5/50\n",
            "60000/60000 [==============================] - 1s 18us/step - loss: 2.1340 - acc: 0.2717 - val_loss: 6.2114 - val_acc: 0.2146\n",
            "Epoch 6/50\n",
            "60000/60000 [==============================] - 1s 18us/step - loss: 1.9943 - acc: 0.3145 - val_loss: 5.3906 - val_acc: 0.2396\n",
            "Epoch 7/50\n",
            "60000/60000 [==============================] - 1s 18us/step - loss: 1.8764 - acc: 0.3527 - val_loss: 4.7523 - val_acc: 0.2676\n",
            "Epoch 8/50\n",
            "60000/60000 [==============================] - 1s 18us/step - loss: 1.7762 - acc: 0.3871 - val_loss: 4.2568 - val_acc: 0.2961\n",
            "Epoch 9/50\n",
            "60000/60000 [==============================] - 1s 18us/step - loss: 1.6906 - acc: 0.4175 - val_loss: 3.8670 - val_acc: 0.3245\n",
            "Epoch 10/50\n",
            "60000/60000 [==============================] - 1s 18us/step - loss: 1.6168 - acc: 0.4445 - val_loss: 3.5537 - val_acc: 0.3503\n",
            "Epoch 11/50\n",
            "60000/60000 [==============================] - 1s 18us/step - loss: 1.5527 - acc: 0.4670 - val_loss: 3.2947 - val_acc: 0.3749\n",
            "Epoch 12/50\n",
            "60000/60000 [==============================] - 1s 18us/step - loss: 1.4966 - acc: 0.4863 - val_loss: 3.0768 - val_acc: 0.3954\n",
            "Epoch 13/50\n",
            "60000/60000 [==============================] - 1s 18us/step - loss: 1.4471 - acc: 0.5023 - val_loss: 2.8910 - val_acc: 0.4135\n",
            "Epoch 14/50\n",
            "60000/60000 [==============================] - 1s 17us/step - loss: 1.4031 - acc: 0.5179 - val_loss: 2.7298 - val_acc: 0.4305\n",
            "Epoch 15/50\n",
            "60000/60000 [==============================] - 1s 18us/step - loss: 1.3637 - acc: 0.5312 - val_loss: 2.5881 - val_acc: 0.4448\n",
            "Epoch 16/50\n",
            "60000/60000 [==============================] - 1s 18us/step - loss: 1.3283 - acc: 0.5429 - val_loss: 2.4630 - val_acc: 0.4549\n",
            "Epoch 17/50\n",
            "60000/60000 [==============================] - 1s 18us/step - loss: 1.2962 - acc: 0.5534 - val_loss: 2.3512 - val_acc: 0.4688\n",
            "Epoch 18/50\n",
            "60000/60000 [==============================] - 1s 18us/step - loss: 1.2669 - acc: 0.5623 - val_loss: 2.2506 - val_acc: 0.4818\n",
            "Epoch 19/50\n",
            "60000/60000 [==============================] - 1s 18us/step - loss: 1.2402 - acc: 0.5709 - val_loss: 2.1598 - val_acc: 0.4932\n",
            "Epoch 20/50\n",
            "60000/60000 [==============================] - 1s 17us/step - loss: 1.2156 - acc: 0.5793 - val_loss: 2.0775 - val_acc: 0.5037\n",
            "Epoch 21/50\n",
            "60000/60000 [==============================] - 1s 18us/step - loss: 1.1930 - acc: 0.5867 - val_loss: 2.0026 - val_acc: 0.5148\n",
            "Epoch 22/50\n",
            "60000/60000 [==============================] - 1s 17us/step - loss: 1.1720 - acc: 0.5936 - val_loss: 1.9345 - val_acc: 0.5253\n",
            "Epoch 23/50\n",
            "60000/60000 [==============================] - 1s 17us/step - loss: 1.1525 - acc: 0.6001 - val_loss: 1.8722 - val_acc: 0.5333\n",
            "Epoch 24/50\n",
            "60000/60000 [==============================] - 1s 18us/step - loss: 1.1343 - acc: 0.6059 - val_loss: 1.8150 - val_acc: 0.5421\n",
            "Epoch 25/50\n",
            "60000/60000 [==============================] - 1s 18us/step - loss: 1.1173 - acc: 0.6111 - val_loss: 1.7622 - val_acc: 0.5495\n",
            "Epoch 26/50\n",
            "60000/60000 [==============================] - 1s 18us/step - loss: 1.1014 - acc: 0.6168 - val_loss: 1.7135 - val_acc: 0.5575\n",
            "Epoch 27/50\n",
            "60000/60000 [==============================] - 1s 18us/step - loss: 1.0865 - acc: 0.6219 - val_loss: 1.6684 - val_acc: 0.5641\n",
            "Epoch 28/50\n",
            "60000/60000 [==============================] - 1s 18us/step - loss: 1.0724 - acc: 0.6262 - val_loss: 1.6265 - val_acc: 0.5698\n",
            "Epoch 29/50\n",
            "60000/60000 [==============================] - 1s 18us/step - loss: 1.0592 - acc: 0.6305 - val_loss: 1.5875 - val_acc: 0.5752\n",
            "Epoch 30/50\n",
            "60000/60000 [==============================] - 1s 18us/step - loss: 1.0466 - acc: 0.6348 - val_loss: 1.5511 - val_acc: 0.5811\n",
            "Epoch 31/50\n",
            "60000/60000 [==============================] - 1s 18us/step - loss: 1.0347 - acc: 0.6385 - val_loss: 1.5171 - val_acc: 0.5864\n",
            "Epoch 32/50\n",
            "60000/60000 [==============================] - 1s 18us/step - loss: 1.0234 - acc: 0.6428 - val_loss: 1.4852 - val_acc: 0.5923\n",
            "Epoch 33/50\n",
            "60000/60000 [==============================] - 1s 17us/step - loss: 1.0127 - acc: 0.6463 - val_loss: 1.4552 - val_acc: 0.5964\n",
            "Epoch 34/50\n",
            "60000/60000 [==============================] - 1s 17us/step - loss: 1.0025 - acc: 0.6497 - val_loss: 1.4271 - val_acc: 0.6005\n",
            "Epoch 35/50\n",
            "60000/60000 [==============================] - 1s 18us/step - loss: 0.9928 - acc: 0.6534 - val_loss: 1.4005 - val_acc: 0.6041\n",
            "Epoch 36/50\n",
            "60000/60000 [==============================] - 1s 17us/step - loss: 0.9835 - acc: 0.6569 - val_loss: 1.3754 - val_acc: 0.6082\n",
            "Epoch 37/50\n",
            "60000/60000 [==============================] - 1s 17us/step - loss: 0.9747 - acc: 0.6596 - val_loss: 1.3517 - val_acc: 0.6124\n",
            "Epoch 38/50\n",
            "60000/60000 [==============================] - 1s 18us/step - loss: 0.9662 - acc: 0.6624 - val_loss: 1.3291 - val_acc: 0.6167\n",
            "Epoch 39/50\n",
            "60000/60000 [==============================] - 1s 18us/step - loss: 0.9581 - acc: 0.6654 - val_loss: 1.3078 - val_acc: 0.6207\n",
            "Epoch 40/50\n",
            "60000/60000 [==============================] - 1s 18us/step - loss: 0.9503 - acc: 0.6680 - val_loss: 1.2874 - val_acc: 0.6226\n",
            "Epoch 41/50\n",
            "60000/60000 [==============================] - 1s 17us/step - loss: 0.9428 - acc: 0.6707 - val_loss: 1.2681 - val_acc: 0.6260\n",
            "Epoch 42/50\n",
            "60000/60000 [==============================] - 1s 17us/step - loss: 0.9356 - acc: 0.6736 - val_loss: 1.2497 - val_acc: 0.6299\n",
            "Epoch 43/50\n",
            "60000/60000 [==============================] - 1s 18us/step - loss: 0.9287 - acc: 0.6763 - val_loss: 1.2321 - val_acc: 0.6335\n",
            "Epoch 44/50\n",
            "60000/60000 [==============================] - 1s 18us/step - loss: 0.9220 - acc: 0.6789 - val_loss: 1.2154 - val_acc: 0.6353\n",
            "Epoch 45/50\n",
            "60000/60000 [==============================] - 1s 18us/step - loss: 0.9156 - acc: 0.6814 - val_loss: 1.1993 - val_acc: 0.6385\n",
            "Epoch 46/50\n",
            "60000/60000 [==============================] - 1s 18us/step - loss: 0.9094 - acc: 0.6841 - val_loss: 1.1840 - val_acc: 0.6411\n",
            "Epoch 47/50\n",
            "60000/60000 [==============================] - 1s 18us/step - loss: 0.9034 - acc: 0.6860 - val_loss: 1.1693 - val_acc: 0.6432\n",
            "Epoch 48/50\n",
            "60000/60000 [==============================] - 1s 18us/step - loss: 0.8977 - acc: 0.6885 - val_loss: 1.1552 - val_acc: 0.6462\n",
            "Epoch 49/50\n",
            "60000/60000 [==============================] - 1s 18us/step - loss: 0.8921 - acc: 0.6905 - val_loss: 1.1417 - val_acc: 0.6482\n",
            "Epoch 50/50\n",
            "60000/60000 [==============================] - 1s 18us/step - loss: 0.8867 - acc: 0.6923 - val_loss: 1.1287 - val_acc: 0.6499\n"
          ],
          "name": "stdout"
        },
        {
          "output_type": "execute_result",
          "data": {
            "text/plain": [
              "<tensorflow.python.keras.callbacks.History at 0x7f17b48d2748>"
            ]
          },
          "metadata": {
            "tags": []
          },
          "execution_count": 14
        }
      ]
    },
    {
      "metadata": {
        "id": "MFk1wAODAkAS",
        "colab_type": "text"
      },
      "cell_type": "markdown",
      "source": [
        "### In the above Neural Network model add Batch Normalization layer after the input layer and repeat the steps."
      ]
    },
    {
      "metadata": {
        "id": "WtkfmAmWAkAT",
        "colab_type": "code",
        "colab": {}
      },
      "cell_type": "code",
      "source": [
        "#Initialize Sequential model\n",
        "model = tf.keras.models.Sequential()\n",
        "\n",
        "#Reshape data from 2D to 1D -> 28x28 to 784\n",
        "model.add(tf.keras.layers.Reshape((784,),input_shape=(28,28,)))\n",
        "\n",
        "#Normalize the data\n",
        "model.add(tf.keras.layers.BatchNormalization())\n",
        "\n",
        "#Add Dense Layer which provides 10 Outputs after applying softmax\n",
        "model.add(tf.keras.layers.Dense(10, activation='softmax'))\n",
        "\n",
        "#Comile the model\n",
        "model.compile(optimizer='sgd', loss='categorical_crossentropy', metrics=['accuracy'])"
      ],
      "execution_count": 0,
      "outputs": []
    },
    {
      "metadata": {
        "id": "v5ndSHepAkAW",
        "colab_type": "text"
      },
      "cell_type": "markdown",
      "source": [
        "### Execute the model"
      ]
    },
    {
      "metadata": {
        "id": "eVNP2t1cAkAX",
        "colab_type": "code",
        "colab": {
          "base_uri": "https://localhost:8080/",
          "height": 1751
        },
        "outputId": "1834b78f-58b9-4ec9-b59b-4667ca12c758"
      },
      "cell_type": "code",
      "source": [
        "model.fit(trainX, trainY, \n",
        "          validation_data=(testX, testY), \n",
        "          epochs=50,\n",
        "          batch_size=trainX.shape[0])"
      ],
      "execution_count": 21,
      "outputs": [
        {
          "output_type": "stream",
          "text": [
            "Train on 60000 samples, validate on 10000 samples\n",
            "Epoch 1/50\n",
            "60000/60000 [==============================] - 1s 16us/step - loss: 0.6954 - acc: 0.7649 - val_loss: 0.9671 - val_acc: 0.7071\n",
            "Epoch 2/50\n",
            "60000/60000 [==============================] - 1s 16us/step - loss: 0.6924 - acc: 0.7659 - val_loss: 0.9567 - val_acc: 0.7091\n",
            "Epoch 3/50\n",
            "60000/60000 [==============================] - 1s 17us/step - loss: 0.6894 - acc: 0.7668 - val_loss: 0.9467 - val_acc: 0.7106\n",
            "Epoch 4/50\n",
            "60000/60000 [==============================] - 1s 17us/step - loss: 0.6865 - acc: 0.7677 - val_loss: 0.9370 - val_acc: 0.7135\n",
            "Epoch 5/50\n",
            "60000/60000 [==============================] - 1s 18us/step - loss: 0.6837 - acc: 0.7687 - val_loss: 0.9277 - val_acc: 0.7152\n",
            "Epoch 6/50\n",
            "60000/60000 [==============================] - 1s 18us/step - loss: 0.6810 - acc: 0.7696 - val_loss: 0.9187 - val_acc: 0.7171\n",
            "Epoch 7/50\n",
            "60000/60000 [==============================] - 1s 18us/step - loss: 0.6783 - acc: 0.7703 - val_loss: 0.9099 - val_acc: 0.7181\n",
            "Epoch 8/50\n",
            "60000/60000 [==============================] - 1s 18us/step - loss: 0.6757 - acc: 0.7711 - val_loss: 0.9015 - val_acc: 0.7200\n",
            "Epoch 9/50\n",
            "60000/60000 [==============================] - 1s 18us/step - loss: 0.6731 - acc: 0.7718 - val_loss: 0.8933 - val_acc: 0.7220\n",
            "Epoch 10/50\n",
            "60000/60000 [==============================] - 1s 18us/step - loss: 0.6706 - acc: 0.7727 - val_loss: 0.8854 - val_acc: 0.7230\n",
            "Epoch 11/50\n",
            "60000/60000 [==============================] - 1s 18us/step - loss: 0.6682 - acc: 0.7733 - val_loss: 0.8777 - val_acc: 0.7245\n",
            "Epoch 12/50\n",
            "60000/60000 [==============================] - 1s 18us/step - loss: 0.6658 - acc: 0.7742 - val_loss: 0.8703 - val_acc: 0.7262\n",
            "Epoch 13/50\n",
            "60000/60000 [==============================] - 1s 18us/step - loss: 0.6635 - acc: 0.7748 - val_loss: 0.8631 - val_acc: 0.7277\n",
            "Epoch 14/50\n",
            "60000/60000 [==============================] - 1s 17us/step - loss: 0.6612 - acc: 0.7759 - val_loss: 0.8561 - val_acc: 0.7291\n",
            "Epoch 15/50\n",
            "60000/60000 [==============================] - 1s 18us/step - loss: 0.6590 - acc: 0.7765 - val_loss: 0.8493 - val_acc: 0.7305\n",
            "Epoch 16/50\n",
            "60000/60000 [==============================] - 1s 17us/step - loss: 0.6568 - acc: 0.7771 - val_loss: 0.8427 - val_acc: 0.7317\n",
            "Epoch 17/50\n",
            "60000/60000 [==============================] - 1s 18us/step - loss: 0.6547 - acc: 0.7778 - val_loss: 0.8363 - val_acc: 0.7332\n",
            "Epoch 18/50\n",
            "60000/60000 [==============================] - 1s 17us/step - loss: 0.6526 - acc: 0.7783 - val_loss: 0.8301 - val_acc: 0.7345\n",
            "Epoch 19/50\n",
            "60000/60000 [==============================] - 1s 18us/step - loss: 0.6506 - acc: 0.7789 - val_loss: 0.8241 - val_acc: 0.7351\n",
            "Epoch 20/50\n",
            "60000/60000 [==============================] - 1s 18us/step - loss: 0.6486 - acc: 0.7796 - val_loss: 0.8182 - val_acc: 0.7362\n",
            "Epoch 21/50\n",
            "60000/60000 [==============================] - 1s 18us/step - loss: 0.6467 - acc: 0.7805 - val_loss: 0.8126 - val_acc: 0.7374\n",
            "Epoch 22/50\n",
            "60000/60000 [==============================] - 1s 18us/step - loss: 0.6447 - acc: 0.7810 - val_loss: 0.8070 - val_acc: 0.7385\n",
            "Epoch 23/50\n",
            "60000/60000 [==============================] - 1s 18us/step - loss: 0.6429 - acc: 0.7818 - val_loss: 0.8017 - val_acc: 0.7394\n",
            "Epoch 24/50\n",
            "60000/60000 [==============================] - 1s 18us/step - loss: 0.6410 - acc: 0.7824 - val_loss: 0.7964 - val_acc: 0.7406\n",
            "Epoch 25/50\n",
            "60000/60000 [==============================] - 1s 18us/step - loss: 0.6392 - acc: 0.7832 - val_loss: 0.7913 - val_acc: 0.7422\n",
            "Epoch 26/50\n",
            "60000/60000 [==============================] - 1s 18us/step - loss: 0.6374 - acc: 0.7837 - val_loss: 0.7864 - val_acc: 0.7435\n",
            "Epoch 27/50\n",
            "60000/60000 [==============================] - 1s 18us/step - loss: 0.6357 - acc: 0.7840 - val_loss: 0.7816 - val_acc: 0.7442\n",
            "Epoch 28/50\n",
            "60000/60000 [==============================] - 1s 18us/step - loss: 0.6340 - acc: 0.7845 - val_loss: 0.7769 - val_acc: 0.7452\n",
            "Epoch 29/50\n",
            "60000/60000 [==============================] - 1s 18us/step - loss: 0.6323 - acc: 0.7848 - val_loss: 0.7723 - val_acc: 0.7467\n",
            "Epoch 30/50\n",
            "60000/60000 [==============================] - 1s 18us/step - loss: 0.6307 - acc: 0.7855 - val_loss: 0.7679 - val_acc: 0.7475\n",
            "Epoch 31/50\n",
            "60000/60000 [==============================] - 1s 18us/step - loss: 0.6291 - acc: 0.7859 - val_loss: 0.7636 - val_acc: 0.7484\n",
            "Epoch 32/50\n",
            "60000/60000 [==============================] - 1s 18us/step - loss: 0.6275 - acc: 0.7866 - val_loss: 0.7593 - val_acc: 0.7493\n",
            "Epoch 33/50\n",
            "60000/60000 [==============================] - 1s 18us/step - loss: 0.6259 - acc: 0.7870 - val_loss: 0.7552 - val_acc: 0.7500\n",
            "Epoch 34/50\n",
            "60000/60000 [==============================] - 1s 17us/step - loss: 0.6244 - acc: 0.7877 - val_loss: 0.7512 - val_acc: 0.7512\n",
            "Epoch 35/50\n",
            "60000/60000 [==============================] - 1s 18us/step - loss: 0.6229 - acc: 0.7881 - val_loss: 0.7473 - val_acc: 0.7526\n",
            "Epoch 36/50\n",
            "60000/60000 [==============================] - 1s 18us/step - loss: 0.6214 - acc: 0.7883 - val_loss: 0.7435 - val_acc: 0.7533\n",
            "Epoch 37/50\n",
            "60000/60000 [==============================] - 1s 18us/step - loss: 0.6199 - acc: 0.7888 - val_loss: 0.7398 - val_acc: 0.7541\n",
            "Epoch 38/50\n",
            "60000/60000 [==============================] - 1s 18us/step - loss: 0.6185 - acc: 0.7892 - val_loss: 0.7361 - val_acc: 0.7553\n",
            "Epoch 39/50\n",
            "60000/60000 [==============================] - 1s 18us/step - loss: 0.6171 - acc: 0.7897 - val_loss: 0.7326 - val_acc: 0.7560\n",
            "Epoch 40/50\n",
            "60000/60000 [==============================] - 1s 17us/step - loss: 0.6157 - acc: 0.7901 - val_loss: 0.7291 - val_acc: 0.7568\n",
            "Epoch 41/50\n",
            "60000/60000 [==============================] - 1s 18us/step - loss: 0.6143 - acc: 0.7906 - val_loss: 0.7258 - val_acc: 0.7572\n",
            "Epoch 42/50\n",
            "60000/60000 [==============================] - 1s 17us/step - loss: 0.6130 - acc: 0.7910 - val_loss: 0.7225 - val_acc: 0.7586\n",
            "Epoch 43/50\n",
            "60000/60000 [==============================] - 1s 18us/step - loss: 0.6117 - acc: 0.7916 - val_loss: 0.7193 - val_acc: 0.7600\n",
            "Epoch 44/50\n",
            "60000/60000 [==============================] - 1s 18us/step - loss: 0.6104 - acc: 0.7921 - val_loss: 0.7161 - val_acc: 0.7609\n",
            "Epoch 45/50\n",
            "60000/60000 [==============================] - 1s 18us/step - loss: 0.6091 - acc: 0.7924 - val_loss: 0.7130 - val_acc: 0.7609\n",
            "Epoch 46/50\n",
            "60000/60000 [==============================] - 1s 18us/step - loss: 0.6079 - acc: 0.7929 - val_loss: 0.7100 - val_acc: 0.7610\n",
            "Epoch 47/50\n",
            "60000/60000 [==============================] - 1s 18us/step - loss: 0.6066 - acc: 0.7936 - val_loss: 0.7071 - val_acc: 0.7616\n",
            "Epoch 48/50\n",
            "60000/60000 [==============================] - 1s 18us/step - loss: 0.6054 - acc: 0.7939 - val_loss: 0.7042 - val_acc: 0.7623\n",
            "Epoch 49/50\n",
            "60000/60000 [==============================] - 1s 18us/step - loss: 0.6042 - acc: 0.7944 - val_loss: 0.7014 - val_acc: 0.7641\n",
            "Epoch 50/50\n",
            "60000/60000 [==============================] - 1s 18us/step - loss: 0.6030 - acc: 0.7947 - val_loss: 0.6987 - val_acc: 0.7649\n"
          ],
          "name": "stdout"
        },
        {
          "output_type": "execute_result",
          "data": {
            "text/plain": [
              "<tensorflow.python.keras.callbacks.History at 0x7f17b1b40dd8>"
            ]
          },
          "metadata": {
            "tags": []
          },
          "execution_count": 21
        }
      ]
    },
    {
      "metadata": {
        "id": "20-qrR2YAkAb",
        "colab_type": "text"
      },
      "cell_type": "markdown",
      "source": [
        "### Customize the learning rate to 0.001 in sgd optimizer and run the model"
      ]
    },
    {
      "metadata": {
        "id": "lAI9FbQiAkAb",
        "colab_type": "code",
        "colab": {}
      },
      "cell_type": "code",
      "source": [
        "sgd_optimizer = tf.keras.optimizers.SGD(lr=0.001)\n",
        "\n",
        "#Initialize Sequential model\n",
        "model = tf.keras.models.Sequential()\n",
        "\n",
        "#Reshape data from 2D to 1D -> 28x28 to 784\n",
        "model.add(tf.keras.layers.Reshape((784,),input_shape=(28,28,)))\n",
        "\n",
        "#Normalize the data\n",
        "model.add(tf.keras.layers.BatchNormalization())\n",
        "\n",
        "#Add Dense Layer which provides 10 Outputs after applying softmax\n",
        "model.add(tf.keras.layers.Dense(10, activation='softmax'))\n",
        "\n",
        "#Comile the model\n",
        "model.compile(optimizer= sgd_optimizer, loss='categorical_crossentropy', metrics=['accuracy'])"
      ],
      "execution_count": 0,
      "outputs": []
    },
    {
      "metadata": {
        "id": "boHSq50vAkAe",
        "colab_type": "code",
        "colab": {
          "base_uri": "https://localhost:8080/",
          "height": 1751
        },
        "outputId": "6b9d48e7-5dae-490f-976b-9cb81724ffff"
      },
      "cell_type": "code",
      "source": [
        "model.fit(trainX, trainY, \n",
        "          validation_data=(testX, testY), \n",
        "          epochs=50,\n",
        "          batch_size=trainX.shape[0])"
      ],
      "execution_count": 18,
      "outputs": [
        {
          "output_type": "stream",
          "text": [
            "Train on 60000 samples, validate on 10000 samples\n",
            "Epoch 1/50\n",
            "60000/60000 [==============================] - 1s 18us/step - loss: 2.7926 - acc: 0.1797 - val_loss: 10.4941 - val_acc: 0.1900\n",
            "Epoch 2/50\n",
            "60000/60000 [==============================] - 1s 20us/step - loss: 2.0819 - acc: 0.3059 - val_loss: 7.5204 - val_acc: 0.2759\n",
            "Epoch 3/50\n",
            "60000/60000 [==============================] - 1s 18us/step - loss: 1.7122 - acc: 0.4181 - val_loss: 5.6859 - val_acc: 0.3404\n",
            "Epoch 4/50\n",
            "60000/60000 [==============================] - 1s 18us/step - loss: 1.5065 - acc: 0.4866 - val_loss: 4.6056 - val_acc: 0.3955\n",
            "Epoch 5/50\n",
            "60000/60000 [==============================] - 1s 17us/step - loss: 1.3748 - acc: 0.5337 - val_loss: 3.9148 - val_acc: 0.4423\n",
            "Epoch 6/50\n",
            "60000/60000 [==============================] - 1s 18us/step - loss: 1.2819 - acc: 0.5669 - val_loss: 3.4422 - val_acc: 0.4780\n",
            "Epoch 7/50\n",
            "60000/60000 [==============================] - 1s 18us/step - loss: 1.2117 - acc: 0.5933 - val_loss: 3.0979 - val_acc: 0.5040\n",
            "Epoch 8/50\n",
            "60000/60000 [==============================] - 1s 18us/step - loss: 1.1564 - acc: 0.6123 - val_loss: 2.8375 - val_acc: 0.5297\n",
            "Epoch 9/50\n",
            "60000/60000 [==============================] - 1s 18us/step - loss: 1.1113 - acc: 0.6283 - val_loss: 2.6337 - val_acc: 0.5496\n",
            "Epoch 10/50\n",
            "60000/60000 [==============================] - 1s 18us/step - loss: 1.0736 - acc: 0.6403 - val_loss: 2.4690 - val_acc: 0.5648\n",
            "Epoch 11/50\n",
            "60000/60000 [==============================] - 1s 18us/step - loss: 1.0414 - acc: 0.6510 - val_loss: 2.3325 - val_acc: 0.5762\n",
            "Epoch 12/50\n",
            "60000/60000 [==============================] - 1s 18us/step - loss: 1.0137 - acc: 0.6599 - val_loss: 2.2164 - val_acc: 0.5878\n",
            "Epoch 13/50\n",
            "60000/60000 [==============================] - 1s 18us/step - loss: 0.9893 - acc: 0.6682 - val_loss: 2.1160 - val_acc: 0.5968\n",
            "Epoch 14/50\n",
            "60000/60000 [==============================] - 1s 17us/step - loss: 0.9677 - acc: 0.6761 - val_loss: 2.0280 - val_acc: 0.6035\n",
            "Epoch 15/50\n",
            "60000/60000 [==============================] - 1s 18us/step - loss: 0.9484 - acc: 0.6820 - val_loss: 1.9498 - val_acc: 0.6092\n",
            "Epoch 16/50\n",
            "60000/60000 [==============================] - 1s 18us/step - loss: 0.9310 - acc: 0.6875 - val_loss: 1.8797 - val_acc: 0.6139\n",
            "Epoch 17/50\n",
            "60000/60000 [==============================] - 1s 18us/step - loss: 0.9153 - acc: 0.6924 - val_loss: 1.8163 - val_acc: 0.6200\n",
            "Epoch 18/50\n",
            "60000/60000 [==============================] - 1s 18us/step - loss: 0.9008 - acc: 0.6969 - val_loss: 1.7584 - val_acc: 0.6265\n",
            "Epoch 19/50\n",
            "60000/60000 [==============================] - 1s 18us/step - loss: 0.8876 - acc: 0.7007 - val_loss: 1.7054 - val_acc: 0.6312\n",
            "Epoch 20/50\n",
            "60000/60000 [==============================] - 1s 18us/step - loss: 0.8753 - acc: 0.7049 - val_loss: 1.6567 - val_acc: 0.6346\n",
            "Epoch 21/50\n",
            "60000/60000 [==============================] - 1s 18us/step - loss: 0.8640 - acc: 0.7085 - val_loss: 1.6116 - val_acc: 0.6383\n",
            "Epoch 22/50\n",
            "60000/60000 [==============================] - 1s 18us/step - loss: 0.8534 - acc: 0.7117 - val_loss: 1.5695 - val_acc: 0.6417\n",
            "Epoch 23/50\n",
            "60000/60000 [==============================] - 1s 18us/step - loss: 0.8435 - acc: 0.7148 - val_loss: 1.5303 - val_acc: 0.6442\n",
            "Epoch 24/50\n",
            "60000/60000 [==============================] - 1s 18us/step - loss: 0.8342 - acc: 0.7178 - val_loss: 1.4936 - val_acc: 0.6473\n",
            "Epoch 25/50\n",
            "60000/60000 [==============================] - 1s 18us/step - loss: 0.8255 - acc: 0.7212 - val_loss: 1.4591 - val_acc: 0.6510\n",
            "Epoch 26/50\n",
            "60000/60000 [==============================] - 1s 18us/step - loss: 0.8173 - acc: 0.7244 - val_loss: 1.4266 - val_acc: 0.6543\n",
            "Epoch 27/50\n",
            "60000/60000 [==============================] - 1s 18us/step - loss: 0.8095 - acc: 0.7264 - val_loss: 1.3959 - val_acc: 0.6562\n",
            "Epoch 28/50\n",
            "60000/60000 [==============================] - 1s 18us/step - loss: 0.8021 - acc: 0.7291 - val_loss: 1.3668 - val_acc: 0.6589\n",
            "Epoch 29/50\n",
            "60000/60000 [==============================] - 1s 18us/step - loss: 0.7951 - acc: 0.7315 - val_loss: 1.3393 - val_acc: 0.6614\n",
            "Epoch 30/50\n",
            "60000/60000 [==============================] - 1s 18us/step - loss: 0.7885 - acc: 0.7337 - val_loss: 1.3132 - val_acc: 0.6644\n",
            "Epoch 31/50\n",
            "60000/60000 [==============================] - 1s 18us/step - loss: 0.7821 - acc: 0.7354 - val_loss: 1.2884 - val_acc: 0.6669\n",
            "Epoch 32/50\n",
            "60000/60000 [==============================] - 1s 18us/step - loss: 0.7761 - acc: 0.7377 - val_loss: 1.2648 - val_acc: 0.6686\n",
            "Epoch 33/50\n",
            "60000/60000 [==============================] - 1s 17us/step - loss: 0.7703 - acc: 0.7396 - val_loss: 1.2423 - val_acc: 0.6711\n",
            "Epoch 34/50\n",
            "60000/60000 [==============================] - 1s 17us/step - loss: 0.7647 - acc: 0.7416 - val_loss: 1.2209 - val_acc: 0.6740\n",
            "Epoch 35/50\n",
            "60000/60000 [==============================] - 1s 18us/step - loss: 0.7594 - acc: 0.7432 - val_loss: 1.2004 - val_acc: 0.6757\n",
            "Epoch 36/50\n",
            "60000/60000 [==============================] - 1s 18us/step - loss: 0.7542 - acc: 0.7448 - val_loss: 1.1809 - val_acc: 0.6777\n",
            "Epoch 37/50\n",
            "60000/60000 [==============================] - 1s 18us/step - loss: 0.7493 - acc: 0.7464 - val_loss: 1.1622 - val_acc: 0.6796\n",
            "Epoch 38/50\n",
            "60000/60000 [==============================] - 1s 18us/step - loss: 0.7446 - acc: 0.7478 - val_loss: 1.1443 - val_acc: 0.6818\n",
            "Epoch 39/50\n",
            "60000/60000 [==============================] - 1s 18us/step - loss: 0.7400 - acc: 0.7495 - val_loss: 1.1271 - val_acc: 0.6840\n",
            "Epoch 40/50\n",
            "60000/60000 [==============================] - 1s 18us/step - loss: 0.7356 - acc: 0.7509 - val_loss: 1.1107 - val_acc: 0.6861\n",
            "Epoch 41/50\n",
            "60000/60000 [==============================] - 1s 18us/step - loss: 0.7313 - acc: 0.7524 - val_loss: 1.0950 - val_acc: 0.6878\n",
            "Epoch 42/50\n",
            "60000/60000 [==============================] - 1s 18us/step - loss: 0.7272 - acc: 0.7538 - val_loss: 1.0799 - val_acc: 0.6892\n",
            "Epoch 43/50\n",
            "60000/60000 [==============================] - 1s 18us/step - loss: 0.7232 - acc: 0.7551 - val_loss: 1.0653 - val_acc: 0.6919\n",
            "Epoch 44/50\n",
            "60000/60000 [==============================] - 1s 17us/step - loss: 0.7194 - acc: 0.7564 - val_loss: 1.0514 - val_acc: 0.6944\n",
            "Epoch 45/50\n",
            "60000/60000 [==============================] - 1s 18us/step - loss: 0.7156 - acc: 0.7578 - val_loss: 1.0379 - val_acc: 0.6960\n",
            "Epoch 46/50\n",
            "60000/60000 [==============================] - 1s 18us/step - loss: 0.7120 - acc: 0.7592 - val_loss: 1.0250 - val_acc: 0.6981\n",
            "Epoch 47/50\n",
            "60000/60000 [==============================] - 1s 18us/step - loss: 0.7085 - acc: 0.7604 - val_loss: 1.0125 - val_acc: 0.7000\n",
            "Epoch 48/50\n",
            "60000/60000 [==============================] - 1s 18us/step - loss: 0.7051 - acc: 0.7618 - val_loss: 1.0005 - val_acc: 0.7029\n",
            "Epoch 49/50\n",
            "60000/60000 [==============================] - 1s 18us/step - loss: 0.7018 - acc: 0.7628 - val_loss: 0.9890 - val_acc: 0.7050\n",
            "Epoch 50/50\n",
            "60000/60000 [==============================] - 1s 18us/step - loss: 0.6985 - acc: 0.7638 - val_loss: 0.9778 - val_acc: 0.7067\n"
          ],
          "name": "stdout"
        },
        {
          "output_type": "execute_result",
          "data": {
            "text/plain": [
              "<tensorflow.python.keras.callbacks.History at 0x7f17b1c05278>"
            ]
          },
          "metadata": {
            "tags": []
          },
          "execution_count": 18
        }
      ]
    },
    {
      "metadata": {
        "id": "LgmRXZzAAkAh",
        "colab_type": "text"
      },
      "cell_type": "markdown",
      "source": [
        "### Build the Neural Network model with 3 Dense layers with 30(feel free to play with the no.of neurons and the layers),10 neurons respectively in each layer. Use cross entropy loss function and singmoid as activation in the hidden layers and softmax as activation function in the output layer. Use sgd optimizer with learning rate 0.03."
      ]
    },
    {
      "metadata": {
        "id": "MpSc2RGRAkAj",
        "colab_type": "code",
        "colab": {}
      },
      "cell_type": "code",
      "source": [
        "#Initialize Sequential model\n",
        "model = tf.keras.models.Sequential()\n",
        "\n",
        "#Reshape data from 2D to 1D -> 28x28 to 784\n",
        "model.add(tf.keras.layers.Reshape((784,),input_shape=(28,28,)))\n",
        "\n",
        "#Normalize the data\n",
        "model.add(tf.keras.layers.BatchNormalization())"
      ],
      "execution_count": 0,
      "outputs": []
    },
    {
      "metadata": {
        "id": "eJeODKxEAkAm",
        "colab_type": "code",
        "colab": {}
      },
      "cell_type": "code",
      "source": [
        "#Add 1st hidden layer\n",
        "model.add(tf.keras.layers.Dense(30, activation='sigmoid'))"
      ],
      "execution_count": 0,
      "outputs": []
    },
    {
      "metadata": {
        "id": "lG3UdfRoAkAq",
        "colab_type": "code",
        "colab": {}
      },
      "cell_type": "code",
      "source": [
        "#Add 2nd hidden layer\n",
        "model.add(tf.keras.layers.Dense(100, activation='sigmoid'))"
      ],
      "execution_count": 0,
      "outputs": []
    },
    {
      "metadata": {
        "id": "nh58m3-FAkAt",
        "colab_type": "code",
        "colab": {}
      },
      "cell_type": "code",
      "source": [
        "#Add 3rd hidden layer\n",
        "model.add(tf.keras.layers.Dense(10, activation='softmax'))"
      ],
      "execution_count": 0,
      "outputs": []
    },
    {
      "metadata": {
        "id": "t9Xyn0ARFUnb",
        "colab_type": "code",
        "colab": {}
      },
      "cell_type": "code",
      "source": [
        "#Create optimizer with non-default learning rate\n",
        "sgd_optimizer = tf.keras.optimizers.SGD(lr=0.03)\n",
        "\n",
        "#Compile the model\n",
        "model.compile(optimizer=sgd_optimizer, loss='categorical_crossentropy', metrics=['accuracy'])"
      ],
      "execution_count": 0,
      "outputs": []
    },
    {
      "metadata": {
        "id": "9N-YhsK8AkAv",
        "colab_type": "text"
      },
      "cell_type": "markdown",
      "source": [
        "## Review model"
      ]
    },
    {
      "metadata": {
        "id": "4t3sv1U4AkAw",
        "colab_type": "code",
        "colab": {
          "base_uri": "https://localhost:8080/",
          "height": 272
        },
        "outputId": "3ee9e617-afd1-452b-92b3-4db112bdface"
      },
      "cell_type": "code",
      "source": [
        "model.summary()"
      ],
      "execution_count": 38,
      "outputs": [
        {
          "output_type": "stream",
          "text": [
            "_________________________________________________________________\n",
            "Layer (type)                 Output Shape              Param #   \n",
            "=================================================================\n",
            "reshape_6 (Reshape)          (None, 784)               0         \n",
            "_________________________________________________________________\n",
            "batch_normalization_5 (Batch (None, 784)               3136      \n",
            "_________________________________________________________________\n",
            "dense_8 (Dense)              (None, 10)                7850      \n",
            "_________________________________________________________________\n",
            "dense_9 (Dense)              (None, 10)                110       \n",
            "=================================================================\n",
            "Total params: 11,096\n",
            "Trainable params: 9,528\n",
            "Non-trainable params: 1,568\n",
            "_________________________________________________________________\n"
          ],
          "name": "stdout"
        }
      ]
    },
    {
      "metadata": {
        "id": "5UlZEsjbAkAy",
        "colab_type": "text"
      },
      "cell_type": "markdown",
      "source": [
        "### Run the model"
      ]
    },
    {
      "metadata": {
        "id": "CncNld85AkAz",
        "colab_type": "code",
        "colab": {
          "base_uri": "https://localhost:8080/",
          "height": 1751
        },
        "outputId": "421da35e-7d8a-4b11-a1bf-99b5d9e533b2"
      },
      "cell_type": "code",
      "source": [
        "model.fit(trainX,trainY,          \n",
        "          validation_data=(testX,testY),\n",
        "          epochs=50,\n",
        "          batch_size=32)"
      ],
      "execution_count": 39,
      "outputs": [
        {
          "output_type": "stream",
          "text": [
            "Train on 60000 samples, validate on 10000 samples\n",
            "Epoch 1/50\n",
            "60000/60000 [==============================] - 4s 67us/step - loss: 1.3337 - acc: 0.6297 - val_loss: 0.9382 - val_acc: 0.6531\n",
            "Epoch 2/50\n",
            "60000/60000 [==============================] - 4s 61us/step - loss: 0.8582 - acc: 0.6606 - val_loss: 0.8260 - val_acc: 0.6550\n",
            "Epoch 3/50\n",
            "60000/60000 [==============================] - 4s 61us/step - loss: 0.7909 - acc: 0.6619 - val_loss: 0.7700 - val_acc: 0.6588\n",
            "Epoch 4/50\n",
            "60000/60000 [==============================] - 4s 61us/step - loss: 0.7630 - acc: 0.6653 - val_loss: 0.7583 - val_acc: 0.6639\n",
            "Epoch 5/50\n",
            "60000/60000 [==============================] - 4s 60us/step - loss: 0.7507 - acc: 0.6639 - val_loss: 0.7551 - val_acc: 0.6727\n",
            "Epoch 6/50\n",
            "60000/60000 [==============================] - 4s 60us/step - loss: 0.7431 - acc: 0.6680 - val_loss: 0.7399 - val_acc: 0.6652\n",
            "Epoch 7/50\n",
            "60000/60000 [==============================] - 4s 61us/step - loss: 0.7335 - acc: 0.6698 - val_loss: 0.7436 - val_acc: 0.6707\n",
            "Epoch 8/50\n",
            "60000/60000 [==============================] - 4s 61us/step - loss: 0.7282 - acc: 0.6732 - val_loss: 0.7326 - val_acc: 0.6667\n",
            "Epoch 9/50\n",
            "60000/60000 [==============================] - 4s 61us/step - loss: 0.7244 - acc: 0.6754 - val_loss: 0.7293 - val_acc: 0.6709\n",
            "Epoch 10/50\n",
            "60000/60000 [==============================] - 4s 60us/step - loss: 0.7163 - acc: 0.6909 - val_loss: 0.7353 - val_acc: 0.6980\n",
            "Epoch 11/50\n",
            "60000/60000 [==============================] - 4s 61us/step - loss: 0.6997 - acc: 0.7305 - val_loss: 0.6998 - val_acc: 0.7380\n",
            "Epoch 12/50\n",
            "60000/60000 [==============================] - 4s 61us/step - loss: 0.6673 - acc: 0.7533 - val_loss: 0.6721 - val_acc: 0.7569\n",
            "Epoch 13/50\n",
            "60000/60000 [==============================] - 4s 61us/step - loss: 0.6409 - acc: 0.7867 - val_loss: 0.6354 - val_acc: 0.7959\n",
            "Epoch 14/50\n",
            "60000/60000 [==============================] - 4s 60us/step - loss: 0.5852 - acc: 0.8109 - val_loss: 0.5696 - val_acc: 0.8128\n",
            "Epoch 15/50\n",
            "60000/60000 [==============================] - 4s 61us/step - loss: 0.5483 - acc: 0.8185 - val_loss: 0.5728 - val_acc: 0.8102\n",
            "Epoch 16/50\n",
            "60000/60000 [==============================] - 4s 61us/step - loss: 0.5375 - acc: 0.8201 - val_loss: 0.5597 - val_acc: 0.8118\n",
            "Epoch 17/50\n",
            "60000/60000 [==============================] - 4s 61us/step - loss: 0.5263 - acc: 0.8228 - val_loss: 0.5394 - val_acc: 0.8180\n",
            "Epoch 18/50\n",
            "60000/60000 [==============================] - 4s 61us/step - loss: 0.5195 - acc: 0.8238 - val_loss: 0.5462 - val_acc: 0.8173\n",
            "Epoch 19/50\n",
            "60000/60000 [==============================] - 4s 60us/step - loss: 0.5022 - acc: 0.8385 - val_loss: 0.5403 - val_acc: 0.8352\n",
            "Epoch 20/50\n",
            "60000/60000 [==============================] - 4s 61us/step - loss: 0.4896 - acc: 0.8485 - val_loss: 0.5171 - val_acc: 0.8414\n",
            "Epoch 21/50\n",
            "60000/60000 [==============================] - 4s 60us/step - loss: 0.4814 - acc: 0.8508 - val_loss: 0.5233 - val_acc: 0.8350\n",
            "Epoch 22/50\n",
            "60000/60000 [==============================] - 4s 60us/step - loss: 0.4715 - acc: 0.8533 - val_loss: 0.5263 - val_acc: 0.8320\n",
            "Epoch 23/50\n",
            "60000/60000 [==============================] - 4s 60us/step - loss: 0.4696 - acc: 0.8537 - val_loss: 0.5306 - val_acc: 0.8347\n",
            "Epoch 24/50\n",
            "60000/60000 [==============================] - 4s 61us/step - loss: 0.4675 - acc: 0.8546 - val_loss: 0.5066 - val_acc: 0.8438\n",
            "Epoch 25/50\n",
            "60000/60000 [==============================] - 4s 60us/step - loss: 0.4636 - acc: 0.8548 - val_loss: 0.5193 - val_acc: 0.8397\n",
            "Epoch 26/50\n",
            "60000/60000 [==============================] - 4s 66us/step - loss: 0.4643 - acc: 0.8552 - val_loss: 0.5072 - val_acc: 0.8408\n",
            "Epoch 27/50\n",
            "60000/60000 [==============================] - 4s 68us/step - loss: 0.4597 - acc: 0.8547 - val_loss: 0.5043 - val_acc: 0.8400\n",
            "Epoch 28/50\n",
            "60000/60000 [==============================] - 4s 67us/step - loss: 0.4599 - acc: 0.8550 - val_loss: 0.4993 - val_acc: 0.8431\n",
            "Epoch 29/50\n",
            "60000/60000 [==============================] - 4s 66us/step - loss: 0.4522 - acc: 0.8586 - val_loss: 0.5187 - val_acc: 0.8392\n",
            "Epoch 30/50\n",
            "60000/60000 [==============================] - 4s 61us/step - loss: 0.4524 - acc: 0.8589 - val_loss: 0.5015 - val_acc: 0.8407\n",
            "Epoch 31/50\n",
            "60000/60000 [==============================] - 4s 61us/step - loss: 0.4533 - acc: 0.8564 - val_loss: 0.5080 - val_acc: 0.8441\n",
            "Epoch 32/50\n",
            "60000/60000 [==============================] - 4s 61us/step - loss: 0.4505 - acc: 0.8588 - val_loss: 0.5062 - val_acc: 0.8404\n",
            "Epoch 33/50\n",
            "60000/60000 [==============================] - 4s 60us/step - loss: 0.4503 - acc: 0.8575 - val_loss: 0.5094 - val_acc: 0.8411\n",
            "Epoch 34/50\n",
            "60000/60000 [==============================] - 4s 60us/step - loss: 0.4460 - acc: 0.8588 - val_loss: 0.5081 - val_acc: 0.8400\n",
            "Epoch 35/50\n",
            "60000/60000 [==============================] - 4s 60us/step - loss: 0.4456 - acc: 0.8599 - val_loss: 0.5017 - val_acc: 0.8427\n",
            "Epoch 36/50\n",
            "60000/60000 [==============================] - 4s 61us/step - loss: 0.4485 - acc: 0.8590 - val_loss: 0.5103 - val_acc: 0.8413\n",
            "Epoch 37/50\n",
            "60000/60000 [==============================] - 4s 61us/step - loss: 0.4456 - acc: 0.8594 - val_loss: 0.4965 - val_acc: 0.8475\n",
            "Epoch 38/50\n",
            "60000/60000 [==============================] - 4s 60us/step - loss: 0.4421 - acc: 0.8613 - val_loss: 0.5109 - val_acc: 0.8404\n",
            "Epoch 39/50\n",
            "60000/60000 [==============================] - 4s 60us/step - loss: 0.4460 - acc: 0.8590 - val_loss: 0.5007 - val_acc: 0.8445\n",
            "Epoch 40/50\n",
            "60000/60000 [==============================] - 4s 60us/step - loss: 0.4432 - acc: 0.8607 - val_loss: 0.5122 - val_acc: 0.8394\n",
            "Epoch 41/50\n",
            "60000/60000 [==============================] - 4s 60us/step - loss: 0.4412 - acc: 0.8607 - val_loss: 0.5031 - val_acc: 0.8381\n",
            "Epoch 42/50\n",
            "60000/60000 [==============================] - 4s 60us/step - loss: 0.4403 - acc: 0.8601 - val_loss: 0.4987 - val_acc: 0.8419\n",
            "Epoch 43/50\n",
            "60000/60000 [==============================] - 4s 60us/step - loss: 0.4409 - acc: 0.8605 - val_loss: 0.4960 - val_acc: 0.8434\n",
            "Epoch 44/50\n",
            "60000/60000 [==============================] - 4s 60us/step - loss: 0.4370 - acc: 0.8618 - val_loss: 0.5111 - val_acc: 0.8414\n",
            "Epoch 45/50\n",
            "60000/60000 [==============================] - 4s 60us/step - loss: 0.4372 - acc: 0.8619 - val_loss: 0.4969 - val_acc: 0.8447\n",
            "Epoch 46/50\n",
            "60000/60000 [==============================] - 4s 61us/step - loss: 0.4396 - acc: 0.8615 - val_loss: 0.4974 - val_acc: 0.8424\n",
            "Epoch 47/50\n",
            "60000/60000 [==============================] - 4s 60us/step - loss: 0.4381 - acc: 0.8606 - val_loss: 0.4975 - val_acc: 0.8431\n",
            "Epoch 48/50\n",
            "60000/60000 [==============================] - 4s 61us/step - loss: 0.4375 - acc: 0.8601 - val_loss: 0.5075 - val_acc: 0.8388\n",
            "Epoch 49/50\n",
            "60000/60000 [==============================] - 4s 60us/step - loss: 0.4363 - acc: 0.8616 - val_loss: 0.4944 - val_acc: 0.8462\n",
            "Epoch 50/50\n",
            "60000/60000 [==============================] - 4s 60us/step - loss: 0.4365 - acc: 0.8619 - val_loss: 0.4937 - val_acc: 0.8463\n"
          ],
          "name": "stdout"
        },
        {
          "output_type": "execute_result",
          "data": {
            "text/plain": [
              "<tensorflow.python.keras.callbacks.History at 0x7f17b0d99438>"
            ]
          },
          "metadata": {
            "tags": []
          },
          "execution_count": 39
        }
      ]
    }
  ]
}